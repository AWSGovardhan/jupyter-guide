{
 "cells": [
  {
   "cell_type": "markdown",
   "metadata": {},
   "source": [
    "# Demonstrating **Rule 3**: Utilizing **Markdown** and an **Index**"
   ]
  },
  {
   "cell_type": "markdown",
   "metadata": {},
   "source": [
    "<a id='0'></a>\n",
    "## Index\n",
    "#### [Background](#background)\n",
    "#### [Utilizing Markdown](#markdown)\n",
    "#### [Creating an Index](#index)\n",
    "#### [Helpful References](#references)"
   ]
  },
  {
   "cell_type": "markdown",
   "metadata": {},
   "source": [
    "---\n",
    "<a id='background'></a>\n",
    "## Background\n",
    "\n",
    "After reading the [\"Ten simple rules for writing and sharing computational analyses in Jupyter Notebooks\"](https://doi.org/10.1371/journal.pcbi.1007007), one Rule that I found particular helpful in making my Juputer Notebooks readable  was **Rule 3**. \n",
    "\n",
    "#### Rule 3: \"Use cell divisions to make steps clear\".\n",
    "\n",
    "> Notebooks are an interactive environment, so it is very easy to write and run one-line cells. This supports experimentation but can leave your notebooks messy and full of short fragments that are hard to follow. Instead, try to make each cell in your notebook perform one meaningful step of the analysis that is easy to understand from the code in the cell or the surrounding markdown description. Modularize your code by cells and label the cells with markdown above the cell. Think of each cell as being one paragraph, having one function, or accomplishing one task (for example, create a plot).\n",
    "\n",
    ">Avoid long cells (we suggest that anything over 100 lines or one page is too long). Put low-level documentation in code comments. Use descriptive markdown headers to organize your notebook into sections that can be used to easily navigate the notebook and add a table of contents. Split long notebooks into a series of notebooks and keep a top-level index notebook with links to the individual notebooks. Using clear cell and notebook divisions will make your analysis much easier to read.\n",
    "\n",
    "#### Goal of this Notebook\n",
    "\n",
    "In this Notebook, I'd like to demonstrate this aspect of **Rule 3** in particular:\n",
    "> **\"Use descriptive markdown headers to organize your notebook into sections that can be used to easily navigate the notebook and add a table of contents.\"**\n",
    "\n",
    "Specifically by:\n",
    "1. Utilizing markdown, and creating sections\n",
    "2. Creating a table of contents, or index"
   ]
  },
  {
   "cell_type": "markdown",
   "metadata": {},
   "source": [
    "---\n",
    "<a id='markdown'></a>\n",
    "## Utilizing Markdown\n",
    "\n",
    "Markdown allows you to structure your document to make it more readable and consumable by others viewing your notebook.\n",
    "\n",
    "In this document so far, I've utilized the following aspects of markdown while setting the **cell type to be Markdown**. \n",
    "\n",
    "Note: There are many more types of markdown, and I've linked to a cheatsheet for exploring those other options within [helpful references](#references)."
   ]
  },
  {
   "cell_type": "markdown",
   "metadata": {},
   "source": [
    "#### Headers"
   ]
  },
  {
   "cell_type": "raw",
   "metadata": {},
   "source": [
    "Example:\n",
    "## Background: (H2 Header)\n",
    "#### Rule 3: \"Use cell divisions to make steps clear\". (H4 Header)"
   ]
  },
  {
   "cell_type": "markdown",
   "metadata": {},
   "source": [
    "#### Emphasis"
   ]
  },
  {
   "cell_type": "raw",
   "metadata": {},
   "source": [
    "Example:\n",
    "In this Notebook, I'd like to demonstrate this aspect of **Rule 3** in particular"
   ]
  },
  {
   "cell_type": "markdown",
   "metadata": {},
   "source": [
    "#### Lists"
   ]
  },
  {
   "cell_type": "raw",
   "metadata": {},
   "source": [
    "Example:\n",
    "1. Utilizing markdown, and creating sections\n",
    "2. Creating a table of contents, or index"
   ]
  },
  {
   "cell_type": "markdown",
   "metadata": {},
   "source": [
    "#### Links"
   ]
  },
  {
   "cell_type": "raw",
   "metadata": {},
   "source": [
    "Example:\n",
    "After reading the [\"Ten simple rules for writing and sharing computational analyses in Jupyter Notebooks\"](https://doi.org/10.1371/journal.pcbi.1007007), one Rule that I found particular helpful in making my Juputer Notebooks readable  was **Rule 3**."
   ]
  },
  {
   "cell_type": "markdown",
   "metadata": {},
   "source": [
    "#### Blockquotes"
   ]
  },
  {
   "cell_type": "raw",
   "metadata": {},
   "source": [
    "Example:\n",
    "In this Notebook, I'd like to demonstrate this aspect of **Rule 3** in particular:\n",
    "> **\"Use descriptive markdown headers to organize your notebook into sections that can be used to easily navigate the notebook and add a table of contents.\"**"
   ]
  },
  {
   "cell_type": "markdown",
   "metadata": {},
   "source": [
    "#### Line Breaks"
   ]
  },
  {
   "cell_type": "raw",
   "metadata": {},
   "source": [
    "Example:\n",
    "---\n",
    "Utilizing Markdown:"
   ]
  },
  {
   "cell_type": "markdown",
   "metadata": {},
   "source": [
    "---\n",
    "<a id='index'></a>\n",
    "## Creating an Index\n",
    "\n",
    "At the top of this document, I created an [Index](#0) to make quickly referencing various sections of this notebook easy.\n",
    "\n",
    "My Index lists the sections as:\n",
    "1. Background\n",
    "2. Utilizing Markdown\n",
    "3. Creating an Index\n",
    "4. Helpful References\n",
    "\n",
    "I went a step further towards ease of use by then utilizing internal html links within the document to make jumping to each section fast. The document in [helpful references](#references) does a great job of demonstrating how to do this. \n",
    "\n",
    "But, i'd also like to demonstrate it here."
   ]
  },
  {
   "cell_type": "raw",
   "metadata": {},
   "source": [
    "Example Index:\n",
    "<a id='0'></a>\n",
    "## Index:\n",
    "#### [Background](#background)\n",
    "#### [Utilizing Markdown](#markdown)\n",
    "#### [Creating an Index](#index)\n",
    "#### [Helpful References](#references)"
   ]
  },
  {
   "cell_type": "raw",
   "metadata": {},
   "source": [
    "Example of Section Header:\n",
    "<a id='background'></a>\n",
    "## Background:"
   ]
  },
  {
   "cell_type": "markdown",
   "metadata": {},
   "source": [
    "---\n",
    "<a id='references'></a>\n",
    "## Helpful References\n",
    "\n",
    "I found these two resources **very helpful** in determining how to utilize markdown within the Jupyter Notebook and creating an Index.\n",
    "\n",
    "1. [Markdown cheatsheet](https://github.com/adam-p/markdown-here/wiki/Markdown-Cheatsheet) by Adam Pritchard\n",
    "2. [Creating a table of contents with internal links](https://sebastianraschka.com/Articles/2014_ipython_internal_links.html) by Sebastian Raschka"
   ]
  }
 ],
 "metadata": {
  "kernelspec": {
   "display_name": "Python 3",
   "language": "python",
   "name": "python3"
  },
  "language_info": {
   "codemirror_mode": {
    "name": "ipython",
    "version": 3
   },
   "file_extension": ".py",
   "mimetype": "text/x-python",
   "name": "python",
   "nbconvert_exporter": "python",
   "pygments_lexer": "ipython3",
   "version": "3.7.4"
  }
 },
 "nbformat": 4,
 "nbformat_minor": 4
}
